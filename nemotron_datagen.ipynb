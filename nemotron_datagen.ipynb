{
  "nbformat": 4,
  "nbformat_minor": 0,
  "metadata": {
    "colab": {
      "provenance": [],
      "include_colab_link": true
    },
    "kernelspec": {
      "name": "python3",
      "display_name": "Python 3"
    },
    "language_info": {
      "name": "python"
    },
    "widgets": {
      "application/vnd.jupyter.widget-state+json": {
        "dcc4527209a443b6b01f9ca88a669c80": {
          "model_module": "@jupyter-widgets/controls",
          "model_name": "HBoxModel",
          "model_module_version": "1.5.0",
          "state": {
            "_dom_classes": [],
            "_model_module": "@jupyter-widgets/controls",
            "_model_module_version": "1.5.0",
            "_model_name": "HBoxModel",
            "_view_count": null,
            "_view_module": "@jupyter-widgets/controls",
            "_view_module_version": "1.5.0",
            "_view_name": "HBoxView",
            "box_style": "",
            "children": [
              "IPY_MODEL_4808fa0890874a2d91b8f3a91b0a6e5e",
              "IPY_MODEL_defcdf5fe01148da942eddc3a27a559b",
              "IPY_MODEL_946ba7d182f343eba60f02edc2082d01"
            ],
            "layout": "IPY_MODEL_25ee4183b03f496fa7c101f3e215968a"
          }
        },
        "4808fa0890874a2d91b8f3a91b0a6e5e": {
          "model_module": "@jupyter-widgets/controls",
          "model_name": "HTMLModel",
          "model_module_version": "1.5.0",
          "state": {
            "_dom_classes": [],
            "_model_module": "@jupyter-widgets/controls",
            "_model_module_version": "1.5.0",
            "_model_name": "HTMLModel",
            "_view_count": null,
            "_view_module": "@jupyter-widgets/controls",
            "_view_module_version": "1.5.0",
            "_view_name": "HTMLView",
            "description": "",
            "description_tooltip": null,
            "layout": "IPY_MODEL_b3f5903e304d49bbae68333727420b2d",
            "placeholder": "​",
            "style": "IPY_MODEL_21da0a7cc5c64aafb25b41a6ed475d27",
            "value": "100%"
          }
        },
        "defcdf5fe01148da942eddc3a27a559b": {
          "model_module": "@jupyter-widgets/controls",
          "model_name": "FloatProgressModel",
          "model_module_version": "1.5.0",
          "state": {
            "_dom_classes": [],
            "_model_module": "@jupyter-widgets/controls",
            "_model_module_version": "1.5.0",
            "_model_name": "FloatProgressModel",
            "_view_count": null,
            "_view_module": "@jupyter-widgets/controls",
            "_view_module_version": "1.5.0",
            "_view_name": "ProgressView",
            "bar_style": "success",
            "description": "",
            "description_tooltip": null,
            "layout": "IPY_MODEL_f1a17b7a9ed64561a8ab5936fe499b7f",
            "max": 3,
            "min": 0,
            "orientation": "horizontal",
            "style": "IPY_MODEL_44d5c297e7f842de947b97da4b155391",
            "value": 3
          }
        },
        "946ba7d182f343eba60f02edc2082d01": {
          "model_module": "@jupyter-widgets/controls",
          "model_name": "HTMLModel",
          "model_module_version": "1.5.0",
          "state": {
            "_dom_classes": [],
            "_model_module": "@jupyter-widgets/controls",
            "_model_module_version": "1.5.0",
            "_model_name": "HTMLModel",
            "_view_count": null,
            "_view_module": "@jupyter-widgets/controls",
            "_view_module_version": "1.5.0",
            "_view_name": "HTMLView",
            "description": "",
            "description_tooltip": null,
            "layout": "IPY_MODEL_89db956445ed4b709e76794441a8c8c9",
            "placeholder": "​",
            "style": "IPY_MODEL_2335f85c321f4b878a2c1e644e99a88b",
            "value": " 3/3 [00:17&lt;00:00,  5.63s/it]"
          }
        },
        "25ee4183b03f496fa7c101f3e215968a": {
          "model_module": "@jupyter-widgets/base",
          "model_name": "LayoutModel",
          "model_module_version": "1.2.0",
          "state": {
            "_model_module": "@jupyter-widgets/base",
            "_model_module_version": "1.2.0",
            "_model_name": "LayoutModel",
            "_view_count": null,
            "_view_module": "@jupyter-widgets/base",
            "_view_module_version": "1.2.0",
            "_view_name": "LayoutView",
            "align_content": null,
            "align_items": null,
            "align_self": null,
            "border": null,
            "bottom": null,
            "display": null,
            "flex": null,
            "flex_flow": null,
            "grid_area": null,
            "grid_auto_columns": null,
            "grid_auto_flow": null,
            "grid_auto_rows": null,
            "grid_column": null,
            "grid_gap": null,
            "grid_row": null,
            "grid_template_areas": null,
            "grid_template_columns": null,
            "grid_template_rows": null,
            "height": null,
            "justify_content": null,
            "justify_items": null,
            "left": null,
            "margin": null,
            "max_height": null,
            "max_width": null,
            "min_height": null,
            "min_width": null,
            "object_fit": null,
            "object_position": null,
            "order": null,
            "overflow": null,
            "overflow_x": null,
            "overflow_y": null,
            "padding": null,
            "right": null,
            "top": null,
            "visibility": null,
            "width": null
          }
        },
        "b3f5903e304d49bbae68333727420b2d": {
          "model_module": "@jupyter-widgets/base",
          "model_name": "LayoutModel",
          "model_module_version": "1.2.0",
          "state": {
            "_model_module": "@jupyter-widgets/base",
            "_model_module_version": "1.2.0",
            "_model_name": "LayoutModel",
            "_view_count": null,
            "_view_module": "@jupyter-widgets/base",
            "_view_module_version": "1.2.0",
            "_view_name": "LayoutView",
            "align_content": null,
            "align_items": null,
            "align_self": null,
            "border": null,
            "bottom": null,
            "display": null,
            "flex": null,
            "flex_flow": null,
            "grid_area": null,
            "grid_auto_columns": null,
            "grid_auto_flow": null,
            "grid_auto_rows": null,
            "grid_column": null,
            "grid_gap": null,
            "grid_row": null,
            "grid_template_areas": null,
            "grid_template_columns": null,
            "grid_template_rows": null,
            "height": null,
            "justify_content": null,
            "justify_items": null,
            "left": null,
            "margin": null,
            "max_height": null,
            "max_width": null,
            "min_height": null,
            "min_width": null,
            "object_fit": null,
            "object_position": null,
            "order": null,
            "overflow": null,
            "overflow_x": null,
            "overflow_y": null,
            "padding": null,
            "right": null,
            "top": null,
            "visibility": null,
            "width": null
          }
        },
        "21da0a7cc5c64aafb25b41a6ed475d27": {
          "model_module": "@jupyter-widgets/controls",
          "model_name": "DescriptionStyleModel",
          "model_module_version": "1.5.0",
          "state": {
            "_model_module": "@jupyter-widgets/controls",
            "_model_module_version": "1.5.0",
            "_model_name": "DescriptionStyleModel",
            "_view_count": null,
            "_view_module": "@jupyter-widgets/base",
            "_view_module_version": "1.2.0",
            "_view_name": "StyleView",
            "description_width": ""
          }
        },
        "f1a17b7a9ed64561a8ab5936fe499b7f": {
          "model_module": "@jupyter-widgets/base",
          "model_name": "LayoutModel",
          "model_module_version": "1.2.0",
          "state": {
            "_model_module": "@jupyter-widgets/base",
            "_model_module_version": "1.2.0",
            "_model_name": "LayoutModel",
            "_view_count": null,
            "_view_module": "@jupyter-widgets/base",
            "_view_module_version": "1.2.0",
            "_view_name": "LayoutView",
            "align_content": null,
            "align_items": null,
            "align_self": null,
            "border": null,
            "bottom": null,
            "display": null,
            "flex": null,
            "flex_flow": null,
            "grid_area": null,
            "grid_auto_columns": null,
            "grid_auto_flow": null,
            "grid_auto_rows": null,
            "grid_column": null,
            "grid_gap": null,
            "grid_row": null,
            "grid_template_areas": null,
            "grid_template_columns": null,
            "grid_template_rows": null,
            "height": null,
            "justify_content": null,
            "justify_items": null,
            "left": null,
            "margin": null,
            "max_height": null,
            "max_width": null,
            "min_height": null,
            "min_width": null,
            "object_fit": null,
            "object_position": null,
            "order": null,
            "overflow": null,
            "overflow_x": null,
            "overflow_y": null,
            "padding": null,
            "right": null,
            "top": null,
            "visibility": null,
            "width": null
          }
        },
        "44d5c297e7f842de947b97da4b155391": {
          "model_module": "@jupyter-widgets/controls",
          "model_name": "ProgressStyleModel",
          "model_module_version": "1.5.0",
          "state": {
            "_model_module": "@jupyter-widgets/controls",
            "_model_module_version": "1.5.0",
            "_model_name": "ProgressStyleModel",
            "_view_count": null,
            "_view_module": "@jupyter-widgets/base",
            "_view_module_version": "1.2.0",
            "_view_name": "StyleView",
            "bar_color": null,
            "description_width": ""
          }
        },
        "89db956445ed4b709e76794441a8c8c9": {
          "model_module": "@jupyter-widgets/base",
          "model_name": "LayoutModel",
          "model_module_version": "1.2.0",
          "state": {
            "_model_module": "@jupyter-widgets/base",
            "_model_module_version": "1.2.0",
            "_model_name": "LayoutModel",
            "_view_count": null,
            "_view_module": "@jupyter-widgets/base",
            "_view_module_version": "1.2.0",
            "_view_name": "LayoutView",
            "align_content": null,
            "align_items": null,
            "align_self": null,
            "border": null,
            "bottom": null,
            "display": null,
            "flex": null,
            "flex_flow": null,
            "grid_area": null,
            "grid_auto_columns": null,
            "grid_auto_flow": null,
            "grid_auto_rows": null,
            "grid_column": null,
            "grid_gap": null,
            "grid_row": null,
            "grid_template_areas": null,
            "grid_template_columns": null,
            "grid_template_rows": null,
            "height": null,
            "justify_content": null,
            "justify_items": null,
            "left": null,
            "margin": null,
            "max_height": null,
            "max_width": null,
            "min_height": null,
            "min_width": null,
            "object_fit": null,
            "object_position": null,
            "order": null,
            "overflow": null,
            "overflow_x": null,
            "overflow_y": null,
            "padding": null,
            "right": null,
            "top": null,
            "visibility": null,
            "width": null
          }
        },
        "2335f85c321f4b878a2c1e644e99a88b": {
          "model_module": "@jupyter-widgets/controls",
          "model_name": "DescriptionStyleModel",
          "model_module_version": "1.5.0",
          "state": {
            "_model_module": "@jupyter-widgets/controls",
            "_model_module_version": "1.5.0",
            "_model_name": "DescriptionStyleModel",
            "_view_count": null,
            "_view_module": "@jupyter-widgets/base",
            "_view_module_version": "1.2.0",
            "_view_name": "StyleView",
            "description_width": ""
          }
        },
        "8ac4af2160184581a090917ebd4becd0": {
          "model_module": "@jupyter-widgets/controls",
          "model_name": "HBoxModel",
          "model_module_version": "1.5.0",
          "state": {
            "_dom_classes": [],
            "_model_module": "@jupyter-widgets/controls",
            "_model_module_version": "1.5.0",
            "_model_name": "HBoxModel",
            "_view_count": null,
            "_view_module": "@jupyter-widgets/controls",
            "_view_module_version": "1.5.0",
            "_view_name": "HBoxView",
            "box_style": "",
            "children": [
              "IPY_MODEL_d77e048662b446dbb8c79e4bf262556b",
              "IPY_MODEL_98127f8203f64ae387ebc114eff2fa0e",
              "IPY_MODEL_7a8b141b6d8a45eba30d762eefdf2c7c"
            ],
            "layout": "IPY_MODEL_da38c36fb7874449be342e2beb2a4a98"
          }
        },
        "d77e048662b446dbb8c79e4bf262556b": {
          "model_module": "@jupyter-widgets/controls",
          "model_name": "HTMLModel",
          "model_module_version": "1.5.0",
          "state": {
            "_dom_classes": [],
            "_model_module": "@jupyter-widgets/controls",
            "_model_module_version": "1.5.0",
            "_model_name": "HTMLModel",
            "_view_count": null,
            "_view_module": "@jupyter-widgets/controls",
            "_view_module_version": "1.5.0",
            "_view_name": "HTMLView",
            "description": "",
            "description_tooltip": null,
            "layout": "IPY_MODEL_48f71e30d3e04850be5c4e1bceae583b",
            "placeholder": "​",
            "style": "IPY_MODEL_ab71253047924189833b2ee744dfc5ab",
            "value": "100%"
          }
        },
        "98127f8203f64ae387ebc114eff2fa0e": {
          "model_module": "@jupyter-widgets/controls",
          "model_name": "FloatProgressModel",
          "model_module_version": "1.5.0",
          "state": {
            "_dom_classes": [],
            "_model_module": "@jupyter-widgets/controls",
            "_model_module_version": "1.5.0",
            "_model_name": "FloatProgressModel",
            "_view_count": null,
            "_view_module": "@jupyter-widgets/controls",
            "_view_module_version": "1.5.0",
            "_view_name": "ProgressView",
            "bar_style": "success",
            "description": "",
            "description_tooltip": null,
            "layout": "IPY_MODEL_7f553820cb2f42468a7b3949a97d2564",
            "max": 6,
            "min": 0,
            "orientation": "horizontal",
            "style": "IPY_MODEL_7816e143a3254548b9a2f0e771476886",
            "value": 6
          }
        },
        "7a8b141b6d8a45eba30d762eefdf2c7c": {
          "model_module": "@jupyter-widgets/controls",
          "model_name": "HTMLModel",
          "model_module_version": "1.5.0",
          "state": {
            "_dom_classes": [],
            "_model_module": "@jupyter-widgets/controls",
            "_model_module_version": "1.5.0",
            "_model_name": "HTMLModel",
            "_view_count": null,
            "_view_module": "@jupyter-widgets/controls",
            "_view_module_version": "1.5.0",
            "_view_name": "HTMLView",
            "description": "",
            "description_tooltip": null,
            "layout": "IPY_MODEL_221935cbf88945cb95b326629d750d09",
            "placeholder": "​",
            "style": "IPY_MODEL_05b59e07cd364951948334ae6017c0f6",
            "value": " 6/6 [02:53&lt;00:00, 32.19s/it]"
          }
        },
        "da38c36fb7874449be342e2beb2a4a98": {
          "model_module": "@jupyter-widgets/base",
          "model_name": "LayoutModel",
          "model_module_version": "1.2.0",
          "state": {
            "_model_module": "@jupyter-widgets/base",
            "_model_module_version": "1.2.0",
            "_model_name": "LayoutModel",
            "_view_count": null,
            "_view_module": "@jupyter-widgets/base",
            "_view_module_version": "1.2.0",
            "_view_name": "LayoutView",
            "align_content": null,
            "align_items": null,
            "align_self": null,
            "border": null,
            "bottom": null,
            "display": null,
            "flex": null,
            "flex_flow": null,
            "grid_area": null,
            "grid_auto_columns": null,
            "grid_auto_flow": null,
            "grid_auto_rows": null,
            "grid_column": null,
            "grid_gap": null,
            "grid_row": null,
            "grid_template_areas": null,
            "grid_template_columns": null,
            "grid_template_rows": null,
            "height": null,
            "justify_content": null,
            "justify_items": null,
            "left": null,
            "margin": null,
            "max_height": null,
            "max_width": null,
            "min_height": null,
            "min_width": null,
            "object_fit": null,
            "object_position": null,
            "order": null,
            "overflow": null,
            "overflow_x": null,
            "overflow_y": null,
            "padding": null,
            "right": null,
            "top": null,
            "visibility": null,
            "width": null
          }
        },
        "48f71e30d3e04850be5c4e1bceae583b": {
          "model_module": "@jupyter-widgets/base",
          "model_name": "LayoutModel",
          "model_module_version": "1.2.0",
          "state": {
            "_model_module": "@jupyter-widgets/base",
            "_model_module_version": "1.2.0",
            "_model_name": "LayoutModel",
            "_view_count": null,
            "_view_module": "@jupyter-widgets/base",
            "_view_module_version": "1.2.0",
            "_view_name": "LayoutView",
            "align_content": null,
            "align_items": null,
            "align_self": null,
            "border": null,
            "bottom": null,
            "display": null,
            "flex": null,
            "flex_flow": null,
            "grid_area": null,
            "grid_auto_columns": null,
            "grid_auto_flow": null,
            "grid_auto_rows": null,
            "grid_column": null,
            "grid_gap": null,
            "grid_row": null,
            "grid_template_areas": null,
            "grid_template_columns": null,
            "grid_template_rows": null,
            "height": null,
            "justify_content": null,
            "justify_items": null,
            "left": null,
            "margin": null,
            "max_height": null,
            "max_width": null,
            "min_height": null,
            "min_width": null,
            "object_fit": null,
            "object_position": null,
            "order": null,
            "overflow": null,
            "overflow_x": null,
            "overflow_y": null,
            "padding": null,
            "right": null,
            "top": null,
            "visibility": null,
            "width": null
          }
        },
        "ab71253047924189833b2ee744dfc5ab": {
          "model_module": "@jupyter-widgets/controls",
          "model_name": "DescriptionStyleModel",
          "model_module_version": "1.5.0",
          "state": {
            "_model_module": "@jupyter-widgets/controls",
            "_model_module_version": "1.5.0",
            "_model_name": "DescriptionStyleModel",
            "_view_count": null,
            "_view_module": "@jupyter-widgets/base",
            "_view_module_version": "1.2.0",
            "_view_name": "StyleView",
            "description_width": ""
          }
        },
        "7f553820cb2f42468a7b3949a97d2564": {
          "model_module": "@jupyter-widgets/base",
          "model_name": "LayoutModel",
          "model_module_version": "1.2.0",
          "state": {
            "_model_module": "@jupyter-widgets/base",
            "_model_module_version": "1.2.0",
            "_model_name": "LayoutModel",
            "_view_count": null,
            "_view_module": "@jupyter-widgets/base",
            "_view_module_version": "1.2.0",
            "_view_name": "LayoutView",
            "align_content": null,
            "align_items": null,
            "align_self": null,
            "border": null,
            "bottom": null,
            "display": null,
            "flex": null,
            "flex_flow": null,
            "grid_area": null,
            "grid_auto_columns": null,
            "grid_auto_flow": null,
            "grid_auto_rows": null,
            "grid_column": null,
            "grid_gap": null,
            "grid_row": null,
            "grid_template_areas": null,
            "grid_template_columns": null,
            "grid_template_rows": null,
            "height": null,
            "justify_content": null,
            "justify_items": null,
            "left": null,
            "margin": null,
            "max_height": null,
            "max_width": null,
            "min_height": null,
            "min_width": null,
            "object_fit": null,
            "object_position": null,
            "order": null,
            "overflow": null,
            "overflow_x": null,
            "overflow_y": null,
            "padding": null,
            "right": null,
            "top": null,
            "visibility": null,
            "width": null
          }
        },
        "7816e143a3254548b9a2f0e771476886": {
          "model_module": "@jupyter-widgets/controls",
          "model_name": "ProgressStyleModel",
          "model_module_version": "1.5.0",
          "state": {
            "_model_module": "@jupyter-widgets/controls",
            "_model_module_version": "1.5.0",
            "_model_name": "ProgressStyleModel",
            "_view_count": null,
            "_view_module": "@jupyter-widgets/base",
            "_view_module_version": "1.2.0",
            "_view_name": "StyleView",
            "bar_color": null,
            "description_width": ""
          }
        },
        "221935cbf88945cb95b326629d750d09": {
          "model_module": "@jupyter-widgets/base",
          "model_name": "LayoutModel",
          "model_module_version": "1.2.0",
          "state": {
            "_model_module": "@jupyter-widgets/base",
            "_model_module_version": "1.2.0",
            "_model_name": "LayoutModel",
            "_view_count": null,
            "_view_module": "@jupyter-widgets/base",
            "_view_module_version": "1.2.0",
            "_view_name": "LayoutView",
            "align_content": null,
            "align_items": null,
            "align_self": null,
            "border": null,
            "bottom": null,
            "display": null,
            "flex": null,
            "flex_flow": null,
            "grid_area": null,
            "grid_auto_columns": null,
            "grid_auto_flow": null,
            "grid_auto_rows": null,
            "grid_column": null,
            "grid_gap": null,
            "grid_row": null,
            "grid_template_areas": null,
            "grid_template_columns": null,
            "grid_template_rows": null,
            "height": null,
            "justify_content": null,
            "justify_items": null,
            "left": null,
            "margin": null,
            "max_height": null,
            "max_width": null,
            "min_height": null,
            "min_width": null,
            "object_fit": null,
            "object_position": null,
            "order": null,
            "overflow": null,
            "overflow_x": null,
            "overflow_y": null,
            "padding": null,
            "right": null,
            "top": null,
            "visibility": null,
            "width": null
          }
        },
        "05b59e07cd364951948334ae6017c0f6": {
          "model_module": "@jupyter-widgets/controls",
          "model_name": "DescriptionStyleModel",
          "model_module_version": "1.5.0",
          "state": {
            "_model_module": "@jupyter-widgets/controls",
            "_model_module_version": "1.5.0",
            "_model_name": "DescriptionStyleModel",
            "_view_count": null,
            "_view_module": "@jupyter-widgets/base",
            "_view_module_version": "1.2.0",
            "_view_name": "StyleView",
            "description_width": ""
          }
        },
        "490c8416969049aaa0f3e1a422ccae36": {
          "model_module": "@jupyter-widgets/controls",
          "model_name": "HBoxModel",
          "model_module_version": "1.5.0",
          "state": {
            "_dom_classes": [],
            "_model_module": "@jupyter-widgets/controls",
            "_model_module_version": "1.5.0",
            "_model_name": "HBoxModel",
            "_view_count": null,
            "_view_module": "@jupyter-widgets/controls",
            "_view_module_version": "1.5.0",
            "_view_name": "HBoxView",
            "box_style": "",
            "children": [
              "IPY_MODEL_8560840e2dd1459cbaf8336f8ea7a7e1",
              "IPY_MODEL_5b37ce9aba734b86b43c52d4976d2800",
              "IPY_MODEL_05ff56b5dd9e49a985736709cf0cc7cd"
            ],
            "layout": "IPY_MODEL_69a1b97f551d40e49146730a4316379f"
          }
        },
        "8560840e2dd1459cbaf8336f8ea7a7e1": {
          "model_module": "@jupyter-widgets/controls",
          "model_name": "HTMLModel",
          "model_module_version": "1.5.0",
          "state": {
            "_dom_classes": [],
            "_model_module": "@jupyter-widgets/controls",
            "_model_module_version": "1.5.0",
            "_model_name": "HTMLModel",
            "_view_count": null,
            "_view_module": "@jupyter-widgets/controls",
            "_view_module_version": "1.5.0",
            "_view_name": "HTMLView",
            "description": "",
            "description_tooltip": null,
            "layout": "IPY_MODEL_ef927dd4f4cb4734a2ece56326185f30",
            "placeholder": "​",
            "style": "IPY_MODEL_0d34daedd27f4f7f80e57774f91e256f",
            "value": "100%"
          }
        },
        "5b37ce9aba734b86b43c52d4976d2800": {
          "model_module": "@jupyter-widgets/controls",
          "model_name": "FloatProgressModel",
          "model_module_version": "1.5.0",
          "state": {
            "_dom_classes": [],
            "_model_module": "@jupyter-widgets/controls",
            "_model_module_version": "1.5.0",
            "_model_name": "FloatProgressModel",
            "_view_count": null,
            "_view_module": "@jupyter-widgets/controls",
            "_view_module_version": "1.5.0",
            "_view_name": "ProgressView",
            "bar_style": "success",
            "description": "",
            "description_tooltip": null,
            "layout": "IPY_MODEL_3df8062811ce4a3da1f15eda1b0f1316",
            "max": 6,
            "min": 0,
            "orientation": "horizontal",
            "style": "IPY_MODEL_a0acd32ec3b041f1806ed6143e067c14",
            "value": 6
          }
        },
        "05ff56b5dd9e49a985736709cf0cc7cd": {
          "model_module": "@jupyter-widgets/controls",
          "model_name": "HTMLModel",
          "model_module_version": "1.5.0",
          "state": {
            "_dom_classes": [],
            "_model_module": "@jupyter-widgets/controls",
            "_model_module_version": "1.5.0",
            "_model_name": "HTMLModel",
            "_view_count": null,
            "_view_module": "@jupyter-widgets/controls",
            "_view_module_version": "1.5.0",
            "_view_name": "HTMLView",
            "description": "",
            "description_tooltip": null,
            "layout": "IPY_MODEL_6391fd564bd4485791199333a0353a08",
            "placeholder": "​",
            "style": "IPY_MODEL_6a60c4aef18240ffb19b94cb38c71993",
            "value": " 6/6 [07:12&lt;00:00, 74.25s/it]"
          }
        },
        "69a1b97f551d40e49146730a4316379f": {
          "model_module": "@jupyter-widgets/base",
          "model_name": "LayoutModel",
          "model_module_version": "1.2.0",
          "state": {
            "_model_module": "@jupyter-widgets/base",
            "_model_module_version": "1.2.0",
            "_model_name": "LayoutModel",
            "_view_count": null,
            "_view_module": "@jupyter-widgets/base",
            "_view_module_version": "1.2.0",
            "_view_name": "LayoutView",
            "align_content": null,
            "align_items": null,
            "align_self": null,
            "border": null,
            "bottom": null,
            "display": null,
            "flex": null,
            "flex_flow": null,
            "grid_area": null,
            "grid_auto_columns": null,
            "grid_auto_flow": null,
            "grid_auto_rows": null,
            "grid_column": null,
            "grid_gap": null,
            "grid_row": null,
            "grid_template_areas": null,
            "grid_template_columns": null,
            "grid_template_rows": null,
            "height": null,
            "justify_content": null,
            "justify_items": null,
            "left": null,
            "margin": null,
            "max_height": null,
            "max_width": null,
            "min_height": null,
            "min_width": null,
            "object_fit": null,
            "object_position": null,
            "order": null,
            "overflow": null,
            "overflow_x": null,
            "overflow_y": null,
            "padding": null,
            "right": null,
            "top": null,
            "visibility": null,
            "width": null
          }
        },
        "ef927dd4f4cb4734a2ece56326185f30": {
          "model_module": "@jupyter-widgets/base",
          "model_name": "LayoutModel",
          "model_module_version": "1.2.0",
          "state": {
            "_model_module": "@jupyter-widgets/base",
            "_model_module_version": "1.2.0",
            "_model_name": "LayoutModel",
            "_view_count": null,
            "_view_module": "@jupyter-widgets/base",
            "_view_module_version": "1.2.0",
            "_view_name": "LayoutView",
            "align_content": null,
            "align_items": null,
            "align_self": null,
            "border": null,
            "bottom": null,
            "display": null,
            "flex": null,
            "flex_flow": null,
            "grid_area": null,
            "grid_auto_columns": null,
            "grid_auto_flow": null,
            "grid_auto_rows": null,
            "grid_column": null,
            "grid_gap": null,
            "grid_row": null,
            "grid_template_areas": null,
            "grid_template_columns": null,
            "grid_template_rows": null,
            "height": null,
            "justify_content": null,
            "justify_items": null,
            "left": null,
            "margin": null,
            "max_height": null,
            "max_width": null,
            "min_height": null,
            "min_width": null,
            "object_fit": null,
            "object_position": null,
            "order": null,
            "overflow": null,
            "overflow_x": null,
            "overflow_y": null,
            "padding": null,
            "right": null,
            "top": null,
            "visibility": null,
            "width": null
          }
        },
        "0d34daedd27f4f7f80e57774f91e256f": {
          "model_module": "@jupyter-widgets/controls",
          "model_name": "DescriptionStyleModel",
          "model_module_version": "1.5.0",
          "state": {
            "_model_module": "@jupyter-widgets/controls",
            "_model_module_version": "1.5.0",
            "_model_name": "DescriptionStyleModel",
            "_view_count": null,
            "_view_module": "@jupyter-widgets/base",
            "_view_module_version": "1.2.0",
            "_view_name": "StyleView",
            "description_width": ""
          }
        },
        "3df8062811ce4a3da1f15eda1b0f1316": {
          "model_module": "@jupyter-widgets/base",
          "model_name": "LayoutModel",
          "model_module_version": "1.2.0",
          "state": {
            "_model_module": "@jupyter-widgets/base",
            "_model_module_version": "1.2.0",
            "_model_name": "LayoutModel",
            "_view_count": null,
            "_view_module": "@jupyter-widgets/base",
            "_view_module_version": "1.2.0",
            "_view_name": "LayoutView",
            "align_content": null,
            "align_items": null,
            "align_self": null,
            "border": null,
            "bottom": null,
            "display": null,
            "flex": null,
            "flex_flow": null,
            "grid_area": null,
            "grid_auto_columns": null,
            "grid_auto_flow": null,
            "grid_auto_rows": null,
            "grid_column": null,
            "grid_gap": null,
            "grid_row": null,
            "grid_template_areas": null,
            "grid_template_columns": null,
            "grid_template_rows": null,
            "height": null,
            "justify_content": null,
            "justify_items": null,
            "left": null,
            "margin": null,
            "max_height": null,
            "max_width": null,
            "min_height": null,
            "min_width": null,
            "object_fit": null,
            "object_position": null,
            "order": null,
            "overflow": null,
            "overflow_x": null,
            "overflow_y": null,
            "padding": null,
            "right": null,
            "top": null,
            "visibility": null,
            "width": null
          }
        },
        "a0acd32ec3b041f1806ed6143e067c14": {
          "model_module": "@jupyter-widgets/controls",
          "model_name": "ProgressStyleModel",
          "model_module_version": "1.5.0",
          "state": {
            "_model_module": "@jupyter-widgets/controls",
            "_model_module_version": "1.5.0",
            "_model_name": "ProgressStyleModel",
            "_view_count": null,
            "_view_module": "@jupyter-widgets/base",
            "_view_module_version": "1.2.0",
            "_view_name": "StyleView",
            "bar_color": null,
            "description_width": ""
          }
        },
        "6391fd564bd4485791199333a0353a08": {
          "model_module": "@jupyter-widgets/base",
          "model_name": "LayoutModel",
          "model_module_version": "1.2.0",
          "state": {
            "_model_module": "@jupyter-widgets/base",
            "_model_module_version": "1.2.0",
            "_model_name": "LayoutModel",
            "_view_count": null,
            "_view_module": "@jupyter-widgets/base",
            "_view_module_version": "1.2.0",
            "_view_name": "LayoutView",
            "align_content": null,
            "align_items": null,
            "align_self": null,
            "border": null,
            "bottom": null,
            "display": null,
            "flex": null,
            "flex_flow": null,
            "grid_area": null,
            "grid_auto_columns": null,
            "grid_auto_flow": null,
            "grid_auto_rows": null,
            "grid_column": null,
            "grid_gap": null,
            "grid_row": null,
            "grid_template_areas": null,
            "grid_template_columns": null,
            "grid_template_rows": null,
            "height": null,
            "justify_content": null,
            "justify_items": null,
            "left": null,
            "margin": null,
            "max_height": null,
            "max_width": null,
            "min_height": null,
            "min_width": null,
            "object_fit": null,
            "object_position": null,
            "order": null,
            "overflow": null,
            "overflow_x": null,
            "overflow_y": null,
            "padding": null,
            "right": null,
            "top": null,
            "visibility": null,
            "width": null
          }
        },
        "6a60c4aef18240ffb19b94cb38c71993": {
          "model_module": "@jupyter-widgets/controls",
          "model_name": "DescriptionStyleModel",
          "model_module_version": "1.5.0",
          "state": {
            "_model_module": "@jupyter-widgets/controls",
            "_model_module_version": "1.5.0",
            "_model_name": "DescriptionStyleModel",
            "_view_count": null,
            "_view_module": "@jupyter-widgets/base",
            "_view_module_version": "1.2.0",
            "_view_name": "StyleView",
            "description_width": ""
          }
        }
      }
    }
  },
  "cells": [
    {
      "cell_type": "markdown",
      "metadata": {
        "id": "view-in-github",
        "colab_type": "text"
      },
      "source": [
        "<a href=\"https://colab.research.google.com/github/automationcreators/flowchartmaker/blob/main/nemotron_datagen.ipynb\" target=\"_parent\"><img src=\"https://colab.research.google.com/assets/colab-badge.svg\" alt=\"Open In Colab\"/></a>"
      ]
    },
    {
      "cell_type": "code",
      "source": [
        "!pip install -qU openai"
      ],
      "metadata": {
        "id": "MC90eBgEi0ia",
        "colab": {
          "base_uri": "https://localhost:8080/"
        },
        "outputId": "3aa11c9e-b46b-4271-bbb1-14f91255bc25"
      },
      "execution_count": null,
      "outputs": [
        {
          "output_type": "stream",
          "name": "stdout",
          "text": [
            "\u001b[?25l   \u001b[90m━━━━━━━━━━━━━━━━━━━━━━━━━━━━━━━━━━━━━━━━\u001b[0m \u001b[32m0.0/389.5 kB\u001b[0m \u001b[31m?\u001b[0m eta \u001b[36m-:--:--\u001b[0m\r\u001b[2K   \u001b[91m━━━━━━━━━━━━━━━━━━━━━━━━━━━━━━━━━━━━━━━\u001b[0m\u001b[91m╸\u001b[0m \u001b[32m389.1/389.5 kB\u001b[0m \u001b[31m11.3 MB/s\u001b[0m eta \u001b[36m0:00:01\u001b[0m\r\u001b[2K   \u001b[90m━━━━━━━━━━━━━━━━━━━━━━━━━━━━━━━━━━━━━━━━\u001b[0m \u001b[32m389.5/389.5 kB\u001b[0m \u001b[31m5.2 MB/s\u001b[0m eta \u001b[36m0:00:00\u001b[0m\n",
            "\u001b[?25h"
          ]
        }
      ]
    },
    {
      "cell_type": "code",
      "source": [
        "import os\n",
        "import getpass\n",
        "from openai import OpenAI\n",
        "from tqdm.auto import tqdm"
      ],
      "metadata": {
        "id": "NwWaxN5Ci6KL"
      },
      "execution_count": null,
      "outputs": []
    },
    {
      "cell_type": "code",
      "source": [
        "TOPIC_GENERATION_PROMPT_TEMPLATE = \"\"\"Given the following topic, generate a list of {n_subtopics} subtopics that are related to the topic.\n",
        "The topic is: {topic}\n",
        "The list must be without numbers, and without any description of the subtopics. The subtopics should be separated by a comma. There must be no other text than the list.\n",
        "\"\"\""
      ],
      "metadata": {
        "id": "sQBrrK_tioA0"
      },
      "execution_count": null,
      "outputs": []
    },
    {
      "cell_type": "code",
      "source": [
        "QUESTION_PROMPT_TEMPLATE = \"\"\"Given the following topic, generate {n_questions} questions that could be asked about that topic. Your response should be in a list format.\n",
        "The topic is: {sub_topic}\n",
        "The list must be without numbers. The questions should be separated by a newline character. There must be no other text than the list.\n",
        "\"\"\""
      ],
      "metadata": {
        "id": "UdPHy-ogin5L"
      },
      "execution_count": null,
      "outputs": []
    },
    {
      "cell_type": "code",
      "source": [
        "RESPONSE_PROMPT_TEMPLATE = \"\"\"Given a question, generate 2 responses that could be given to that question. Your response should be in a list format.\n",
        "The question is: {question}\n",
        "\n",
        "The list must be in the format:\n",
        "\n",
        "RESPONSE A: Response A text here\n",
        "RESPONSE B: Response B text here\n",
        "\"\"\""
      ],
      "metadata": {
        "id": "Cb-rt_wvinxO"
      },
      "execution_count": null,
      "outputs": []
    },
    {
      "cell_type": "code",
      "source": [
        "nvidia_api_key = getpass.getpass()"
      ],
      "metadata": {
        "colab": {
          "base_uri": "https://localhost:8080/"
        },
        "id": "NXUEdLFhiyyj",
        "outputId": "6840123c-75b8-42c9-941a-2d697f595750"
      },
      "execution_count": null,
      "outputs": [
        {
          "name": "stdout",
          "output_type": "stream",
          "text": [
            "··········\n"
          ]
        }
      ]
    },
    {
      "cell_type": "code",
      "source": [
        "client = OpenAI(base_url=\"https://integrate.api.nvidia.com/v1\", api_key=nvidia_api_key)"
      ],
      "metadata": {
        "id": "pePmGxEziyrD"
      },
      "execution_count": null,
      "outputs": []
    },
    {
      "cell_type": "code",
      "source": [
        "topic = \"Computer Science\"\n",
        "n_subtopics = 3\n",
        "n_questions = 2"
      ],
      "metadata": {
        "id": "9I_QgmmEi8T6"
      },
      "execution_count": null,
      "outputs": []
    },
    {
      "cell_type": "code",
      "source": [
        "def generate_subtopics(client, topic, n_subtopics):\n",
        "    prompt = TOPIC_GENERATION_PROMPT_TEMPLATE.format(topic=topic, n_subtopics=n_subtopics)\n",
        "    response = client.chat.completions.create(\n",
        "        model=\"nvidia/nemotron-4-340b-instruct\",\n",
        "        messages=[\n",
        "            {\"role\" : \"user\",\n",
        "             \"content\" : prompt}\n",
        "        ],\n",
        "        temperature=0.2,\n",
        "        top_p=0.7,\n",
        "        max_tokens=1024,\n",
        "    )\n",
        "    return response"
      ],
      "metadata": {
        "id": "yJKmJ8LJkjhV"
      },
      "execution_count": null,
      "outputs": []
    },
    {
      "cell_type": "code",
      "source": [
        "responses = generate_subtopics(client, topic=topic, n_subtopics=n_subtopics)"
      ],
      "metadata": {
        "id": "rgSrQJ3ui8R-"
      },
      "execution_count": null,
      "outputs": []
    },
    {
      "cell_type": "code",
      "source": [
        "print(responses.choices[0].message.content)"
      ],
      "metadata": {
        "colab": {
          "base_uri": "https://localhost:8080/"
        },
        "id": "JWja72zsi8P3",
        "outputId": "b4f59e6a-53df-42a0-a5ef-d63f33fc65c8"
      },
      "execution_count": null,
      "outputs": [
        {
          "output_type": "stream",
          "name": "stdout",
          "text": [
            "Data Structures, Algorithms, Artificial Intelligence\n",
            "\n"
          ]
        }
      ]
    },
    {
      "cell_type": "code",
      "source": [
        "subtopic_list = [x.strip() for x in responses.choices[0].message.content.split(\",\")]\n",
        "subtopic_list"
      ],
      "metadata": {
        "colab": {
          "base_uri": "https://localhost:8080/"
        },
        "id": "7t8awOjfi8Nf",
        "outputId": "475950c7-c8c8-40ee-dba9-bba83d584c69"
      },
      "execution_count": null,
      "outputs": [
        {
          "output_type": "execute_result",
          "data": {
            "text/plain": [
              "['Data Structures', 'Algorithms', 'Artificial Intelligence']"
            ]
          },
          "metadata": {},
          "execution_count": 12
        }
      ]
    },
    {
      "cell_type": "code",
      "source": [
        "def generate_questions(client, sub_topic, n_questions):\n",
        "    prompt = QUESTION_PROMPT_TEMPLATE.format(sub_topic=sub_topic, n_questions=n_questions)\n",
        "    response = client.chat.completions.create(\n",
        "        model=\"nvidia/nemotron-4-340b-instruct\",\n",
        "        messages=[\n",
        "            {\"role\" : \"user\",\n",
        "             \"content\" : prompt}\n",
        "        ],\n",
        "        temperature=0.2,\n",
        "        top_p=0.7,\n",
        "        max_tokens=1024,\n",
        "    )\n",
        "    return response.choices[0].message.content"
      ],
      "metadata": {
        "id": "o6XTCLzQi8LI"
      },
      "execution_count": null,
      "outputs": []
    },
    {
      "cell_type": "code",
      "source": [
        "def question_generator(client, subtopic_list, n_question):\n",
        "    question_list = [generate_questions(client, subtopic, n_question) for subtopic in tqdm(subtopic_list)]\n",
        "    return question_list"
      ],
      "metadata": {
        "id": "mmjsmmpYi8Gr"
      },
      "execution_count": null,
      "outputs": []
    },
    {
      "cell_type": "code",
      "source": [
        "question_list = question_generator(client, subtopic_list, n_questions)"
      ],
      "metadata": {
        "colab": {
          "base_uri": "https://localhost:8080/",
          "height": 49,
          "referenced_widgets": [
            "dcc4527209a443b6b01f9ca88a669c80",
            "4808fa0890874a2d91b8f3a91b0a6e5e",
            "defcdf5fe01148da942eddc3a27a559b",
            "946ba7d182f343eba60f02edc2082d01",
            "25ee4183b03f496fa7c101f3e215968a",
            "b3f5903e304d49bbae68333727420b2d",
            "21da0a7cc5c64aafb25b41a6ed475d27",
            "f1a17b7a9ed64561a8ab5936fe499b7f",
            "44d5c297e7f842de947b97da4b155391",
            "89db956445ed4b709e76794441a8c8c9",
            "2335f85c321f4b878a2c1e644e99a88b"
          ]
        },
        "id": "iqwKGQCxi8EN",
        "outputId": "2010e505-ae4f-4d19-aa10-8e0f562984b3"
      },
      "execution_count": null,
      "outputs": [
        {
          "output_type": "display_data",
          "data": {
            "text/plain": [
              "  0%|          | 0/3 [00:00<?, ?it/s]"
            ],
            "application/vnd.jupyter.widget-view+json": {
              "version_major": 2,
              "version_minor": 0,
              "model_id": "dcc4527209a443b6b01f9ca88a669c80"
            }
          },
          "metadata": {}
        }
      ]
    },
    {
      "cell_type": "code",
      "source": [
        "question_list"
      ],
      "metadata": {
        "colab": {
          "base_uri": "https://localhost:8080/"
        },
        "id": "GE7Y5GJYmI-s",
        "outputId": "4c70c989-d198-4357-aa59-73a455cc8fde"
      },
      "execution_count": null,
      "outputs": [
        {
          "output_type": "execute_result",
          "data": {
            "text/plain": [
              "['What are the key differences between array and linked list data structures?\\n\\nCan you explain the concept of a hash table and its advantages in data storage and retrieval?\\n',\n",
              " 'What are some of the most common types of algorithms used in computer science?\\n\\nCan you explain how algorithms are used in everyday applications, such as social media or search engines?\\n',\n",
              " 'What are the potential benefits and risks of artificial intelligence for society?\\n\\nHow can we ensure that the development and deployment of artificial intelligence is ethical and unbiased?\\n']"
            ]
          },
          "metadata": {},
          "execution_count": 16
        }
      ]
    },
    {
      "cell_type": "code",
      "source": [
        "question_list_formatted = []\n",
        "\n",
        "for question_set in question_list:\n",
        "    question_list_formatted += question_set.split(\"\\n\")\n",
        "\n",
        "question_list_formatted = [x for x in question_list_formatted if x]"
      ],
      "metadata": {
        "id": "Ungv_163jRDb"
      },
      "execution_count": null,
      "outputs": []
    },
    {
      "cell_type": "code",
      "source": [
        "question_list_formatted"
      ],
      "metadata": {
        "colab": {
          "base_uri": "https://localhost:8080/"
        },
        "id": "FsS7eADumGc1",
        "outputId": "b5c68b51-28d2-4c3c-9e84-5673d2ccdb97"
      },
      "execution_count": null,
      "outputs": [
        {
          "output_type": "execute_result",
          "data": {
            "text/plain": [
              "['What are the key differences between array and linked list data structures?',\n",
              " 'Can you explain the concept of a hash table and its advantages in data storage and retrieval?',\n",
              " 'What are some of the most common types of algorithms used in computer science?',\n",
              " 'Can you explain how algorithms are used in everyday applications, such as social media or search engines?',\n",
              " 'What are the potential benefits and risks of artificial intelligence for society?',\n",
              " 'How can we ensure that the development and deployment of artificial intelligence is ethical and unbiased?']"
            ]
          },
          "metadata": {},
          "execution_count": 18
        }
      ]
    },
    {
      "cell_type": "code",
      "source": [
        "len(question_list_formatted)"
      ],
      "metadata": {
        "colab": {
          "base_uri": "https://localhost:8080/"
        },
        "id": "WmPahtXLjQ6D",
        "outputId": "d5d50cf6-7648-433d-f185-05206b2ade16"
      },
      "execution_count": null,
      "outputs": [
        {
          "output_type": "execute_result",
          "data": {
            "text/plain": [
              "6"
            ]
          },
          "metadata": {},
          "execution_count": 19
        }
      ]
    },
    {
      "cell_type": "code",
      "source": [
        "def generate_responses(client, question):\n",
        "    prompt = RESPONSE_PROMPT_TEMPLATE.format(question=question)\n",
        "    response = client.chat.completions.create(\n",
        "        model=\"nvidia/nemotron-4-340b-instruct\",\n",
        "        messages=[\n",
        "            {\"role\" : \"user\",\n",
        "             \"content\" : prompt}\n",
        "        ],\n",
        "        temperature=0.2,\n",
        "        top_p=0.7,\n",
        "        max_tokens=1024,\n",
        "    )\n",
        "    return response.choices[0].message.content"
      ],
      "metadata": {
        "id": "vX1VQNT7jQy7"
      },
      "execution_count": null,
      "outputs": []
    },
    {
      "cell_type": "code",
      "source": [
        "def response_generator(client, question_list):\n",
        "    response_list = [generate_responses(client, question) for question in tqdm(question_list)]\n",
        "    return response_list"
      ],
      "metadata": {
        "id": "Zmoa_y8TjQrr"
      },
      "execution_count": null,
      "outputs": []
    },
    {
      "cell_type": "code",
      "source": [
        "question_response_list = response_generator(client, question_list_formatted)"
      ],
      "metadata": {
        "colab": {
          "base_uri": "https://localhost:8080/",
          "height": 49,
          "referenced_widgets": [
            "8ac4af2160184581a090917ebd4becd0",
            "d77e048662b446dbb8c79e4bf262556b",
            "98127f8203f64ae387ebc114eff2fa0e",
            "7a8b141b6d8a45eba30d762eefdf2c7c",
            "da38c36fb7874449be342e2beb2a4a98",
            "48f71e30d3e04850be5c4e1bceae583b",
            "ab71253047924189833b2ee744dfc5ab",
            "7f553820cb2f42468a7b3949a97d2564",
            "7816e143a3254548b9a2f0e771476886",
            "221935cbf88945cb95b326629d750d09",
            "05b59e07cd364951948334ae6017c0f6"
          ]
        },
        "id": "NfWV7xyaiyj9",
        "outputId": "e6f8aa69-fe37-462c-c34d-2366afe31c9f"
      },
      "execution_count": null,
      "outputs": [
        {
          "output_type": "display_data",
          "data": {
            "text/plain": [
              "  0%|          | 0/6 [00:00<?, ?it/s]"
            ],
            "application/vnd.jupyter.widget-view+json": {
              "version_major": 2,
              "version_minor": 0,
              "model_id": "8ac4af2160184581a090917ebd4becd0"
            }
          },
          "metadata": {}
        }
      ]
    },
    {
      "cell_type": "code",
      "source": [
        "question_response_pair_list = []\n",
        "for question, response_set in zip(question_list_formatted, question_response_list):\n",
        "    question_response_pair_list.append(\n",
        "        {\n",
        "            \"question\" : question,\n",
        "            \"responses\" : {\n",
        "                \"response_a\" : {\"response\" : response_set.split(\"RESPONSE B:\")[0].replace(\"RESPONSE A:\", \"\").strip()},\n",
        "                \"response_b\" : {\"response\" : response_set.split(\"RESPONSE B:\")[-1].split(\"\\n\\n\")[0].strip()}\n",
        "            },\n",
        "        }\n",
        "    )"
      ],
      "metadata": {
        "id": "0RuQnHhgiyby"
      },
      "execution_count": null,
      "outputs": []
    },
    {
      "cell_type": "code",
      "source": [
        "import json\n",
        "\n",
        "with open('synthetic_data.jsonl', 'w') as f:\n",
        "    for item in question_response_pair_list:\n",
        "        f.write(json.dumps(item))\n",
        "        f.write('\\n')"
      ],
      "metadata": {
        "id": "7WBT_sEfjhit"
      },
      "execution_count": null,
      "outputs": []
    },
    {
      "cell_type": "markdown",
      "source": [
        "### Using Nemotron-4 340B Reward to Generate a Preference Dataset\n",
        "Equipped with a dataset that has questions that have response pairs, a preference dataset that is compatible with DPO training, SteerLM reward model training, and RLHF reward model training can be generated straightforwardly thanks to [Nemotron-4 340B Reward](https://build.nvidia.com/nvidia/nemotron-4-340b-reward) available through [build.nvidia.com](https://build.nvidia.com/explore/discover)!\n",
        "\n",
        "First, an example of how to use the endpoint.\n",
        "\n",
        "1. You must both provide a user message, and an assistant message!\n",
        "2. It will return a chat-style message with the scores, as well as the scores in the logprogs parameter.\n",
        "\n",
        "The response package will include scores related to five attributes:\n",
        "\n",
        "1. Helpfulness: Overall helpfulness of the response to the prompt.\n",
        "2. Correctness: Inclusion of all pertinent facts without errors.\n",
        "3. Coherence: Consistency and clarity of expression.\n",
        "4. Complexity: Intellectual depth required to write response (i.e. whether the response can be written by anyone with basic language competency or requires deep domain expertise).\n",
        "5. Verbosity: Amount of detail included in the response, relative to what is asked for in the prompt."
      ],
      "metadata": {
        "id": "4d2Nr5zYjhgf"
      }
    },
    {
      "cell_type": "code",
      "source": [
        "messages = [\n",
        "    {\n",
        "        \"role\" : \"user\",\n",
        "        \"content\" : \"Hello!\"\n",
        "    },\n",
        "    {\n",
        "        \"role\": \"assistant\",\n",
        "        \"content\": \"Hello! How can I help you today?\"\n",
        "    },\n",
        "]"
      ],
      "metadata": {
        "id": "w2Og0rpBjhei"
      },
      "execution_count": null,
      "outputs": []
    },
    {
      "cell_type": "code",
      "source": [
        "response = client.chat.completions.create(model=\"nvidia/nemotron-4-340b-reward\", messages=messages)"
      ],
      "metadata": {
        "id": "d1NkYlH3jv-M"
      },
      "execution_count": null,
      "outputs": []
    },
    {
      "cell_type": "code",
      "source": [
        "response"
      ],
      "metadata": {
        "colab": {
          "base_uri": "https://localhost:8080/"
        },
        "id": "KbnMUg0zjv8E",
        "outputId": "7de1abd1-35f6-4fdb-cc93-b23b57c48a8a"
      },
      "execution_count": null,
      "outputs": [
        {
          "output_type": "execute_result",
          "data": {
            "text/plain": [
              "ChatCompletion(id='81a0f546-6115-491b-84c9-de0ee1d3fdf3', choices=[Choice(finish_reason='length', index=0, logprobs=ChoiceLogprobs(content=[ChatCompletionTokenLogprob(token='helpfulness', bytes=None, logprob=4.09375, top_logprobs=[]), ChatCompletionTokenLogprob(token='correctness', bytes=None, logprob=4.03125, top_logprobs=[]), ChatCompletionTokenLogprob(token='coherence', bytes=None, logprob=4.25, top_logprobs=[]), ChatCompletionTokenLogprob(token='complexity', bytes=None, logprob=0.5703125, top_logprobs=[]), ChatCompletionTokenLogprob(token='verbosity', bytes=None, logprob=1.109375, top_logprobs=[])], refusal=None), message=[ChatCompletionMessage(content='helpfulness:4.09375,correctness:4.03125,coherence:4.25,complexity:0.5703125,verbosity:1.109375', refusal=None, role='assistant', audio=None, function_call=None, tool_calls=None)])], created=None, model=None, object=None, service_tier=None, system_fingerprint=None, usage=CompletionUsage(completion_tokens=1, prompt_tokens=54, total_tokens=55, completion_tokens_details=None, prompt_tokens_details=None))"
            ]
          },
          "metadata": {},
          "execution_count": 27
        }
      ]
    },
    {
      "cell_type": "code",
      "source": [
        "response.choices[0].logprobs.content"
      ],
      "metadata": {
        "colab": {
          "base_uri": "https://localhost:8080/"
        },
        "id": "yoYSRSeHjv52",
        "outputId": "9d3cb34c-79aa-4286-b6c7-37e6b93f7253"
      },
      "execution_count": null,
      "outputs": [
        {
          "output_type": "execute_result",
          "data": {
            "text/plain": [
              "[ChatCompletionTokenLogprob(token='helpfulness', bytes=None, logprob=4.09375, top_logprobs=[]),\n",
              " ChatCompletionTokenLogprob(token='correctness', bytes=None, logprob=4.03125, top_logprobs=[]),\n",
              " ChatCompletionTokenLogprob(token='coherence', bytes=None, logprob=4.25, top_logprobs=[]),\n",
              " ChatCompletionTokenLogprob(token='complexity', bytes=None, logprob=0.5703125, top_logprobs=[]),\n",
              " ChatCompletionTokenLogprob(token='verbosity', bytes=None, logprob=1.109375, top_logprobs=[])]"
            ]
          },
          "metadata": {},
          "execution_count": 28
        }
      ]
    },
    {
      "cell_type": "code",
      "source": [
        "def get_scores_from_response(openai_response_template):\n",
        "    logprobs = openai_response_template.choices[0].logprobs.content\n",
        "    score_dict = {}\n",
        "    for score in logprobs:\n",
        "        score_dict[score.token] = score.logprob\n",
        "    return score_dict"
      ],
      "metadata": {
        "id": "OIb6BHKxjv3z"
      },
      "execution_count": null,
      "outputs": []
    },
    {
      "cell_type": "code",
      "source": [
        "get_scores_from_response(response)"
      ],
      "metadata": {
        "colab": {
          "base_uri": "https://localhost:8080/"
        },
        "id": "Rh-AG-NQjv1T",
        "outputId": "be1185b1-9d71-4351-9308-a967f6981047"
      },
      "execution_count": null,
      "outputs": [
        {
          "output_type": "execute_result",
          "data": {
            "text/plain": [
              "{'helpfulness': 4.09375,\n",
              " 'correctness': 4.03125,\n",
              " 'coherence': 4.25,\n",
              " 'complexity': 0.5703125,\n",
              " 'verbosity': 1.109375}"
            ]
          },
          "metadata": {},
          "execution_count": 30
        }
      ]
    },
    {
      "cell_type": "code",
      "source": [
        "def get_response_and_scores(client, model, question, response_content):\n",
        "    messages = [\n",
        "        {\n",
        "            \"role\": \"user\",\n",
        "            \"content\": question\n",
        "        },\n",
        "        {\n",
        "            \"role\": \"assistant\",\n",
        "            \"content\": response_content\n",
        "        },\n",
        "    ]\n",
        "\n",
        "    response = client.chat.completions.create(\n",
        "        model=model,\n",
        "        messages=messages,\n",
        "    )\n",
        "\n",
        "    scores = get_scores_from_response(response)\n",
        "    return scores"
      ],
      "metadata": {
        "id": "EFPfMwMpjvxE"
      },
      "execution_count": null,
      "outputs": []
    },
    {
      "cell_type": "code",
      "source": [
        "def process_question_response_pairs(client, model, question_response_score_list):\n",
        "    results = []\n",
        "\n",
        "    for question_response_pair in tqdm(question_response_score_list):\n",
        "        question = question_response_pair[\"question\"]\n",
        "        resp_a = get_response_and_scores(client, model, question, question_response_pair[\"responses\"][\"response_a\"][\"response\"])\n",
        "        resp_b = get_response_and_scores(client, model, question, question_response_pair[\"responses\"][\"response_b\"][\"response\"])\n",
        "        results.append((resp_a, question_response_pair, \"response_a\"))\n",
        "        results.append((resp_b, question_response_pair, \"response_b\"))\n",
        "\n",
        "    for result, question_response_pair, response_key in results:\n",
        "        question_response_pair[\"responses\"][response_key].update(result)"
      ],
      "metadata": {
        "id": "HruVak5njvsv"
      },
      "execution_count": null,
      "outputs": []
    },
    {
      "cell_type": "code",
      "source": [
        "question_response_score_list = question_response_pair_list.copy()\n",
        "process_question_response_pairs(client, \"nvidia/nemotron-4-340b-reward\", question_response_score_list)"
      ],
      "metadata": {
        "colab": {
          "base_uri": "https://localhost:8080/",
          "height": 49,
          "referenced_widgets": [
            "490c8416969049aaa0f3e1a422ccae36",
            "8560840e2dd1459cbaf8336f8ea7a7e1",
            "5b37ce9aba734b86b43c52d4976d2800",
            "05ff56b5dd9e49a985736709cf0cc7cd",
            "69a1b97f551d40e49146730a4316379f",
            "ef927dd4f4cb4734a2ece56326185f30",
            "0d34daedd27f4f7f80e57774f91e256f",
            "3df8062811ce4a3da1f15eda1b0f1316",
            "a0acd32ec3b041f1806ed6143e067c14",
            "6391fd564bd4485791199333a0353a08",
            "6a60c4aef18240ffb19b94cb38c71993"
          ]
        },
        "id": "bsOK9rIZjvqS",
        "outputId": "4ec67420-34be-41ef-e1bb-64519d11a549"
      },
      "execution_count": null,
      "outputs": [
        {
          "output_type": "display_data",
          "data": {
            "text/plain": [
              "  0%|          | 0/6 [00:00<?, ?it/s]"
            ],
            "application/vnd.jupyter.widget-view+json": {
              "version_major": 2,
              "version_minor": 0,
              "model_id": "490c8416969049aaa0f3e1a422ccae36"
            }
          },
          "metadata": {}
        }
      ]
    },
    {
      "cell_type": "code",
      "source": [
        "question_response_score_list[0]"
      ],
      "metadata": {
        "colab": {
          "base_uri": "https://localhost:8080/"
        },
        "id": "IPSk8BjNoYmj",
        "outputId": "394f3387-eb00-48de-82f1-ae83e6ca66d4"
      },
      "execution_count": null,
      "outputs": [
        {
          "output_type": "execute_result",
          "data": {
            "text/plain": [
              "{'question': 'What are the key differences between array and linked list data structures?',\n",
              " 'responses': {'response_a': {'response': 'One key difference between array and linked list data structures is that arrays have a fixed size, while linked lists can grow or shrink in size dynamically. Additionally, arrays allow for constant time access to any element by index, whereas linked lists require sequential access from the head or tail, resulting in linear time complexity for accessing an element by index.',\n",
              "   'helpfulness': 3.421875,\n",
              "   'correctness': 3.3125,\n",
              "   'coherence': 3.859375,\n",
              "   'complexity': 1.8671875,\n",
              "   'verbosity': 1.0859375},\n",
              "  'response_b': {'response': 'Another difference between array and linked list data structures is that arrays are stored contiguously in memory, which can lead to issues with memory allocation and fragmentation. Linked lists, on the other hand, are stored non-contiguously, with each node containing a pointer to the next node. This allows for easy insertion and deletion of elements, but can result in additional memory overhead due to the need to store pointers.',\n",
              "   'helpfulness': 2.140625,\n",
              "   'correctness': 2.28125,\n",
              "   'coherence': 3.5,\n",
              "   'complexity': 1.8203125,\n",
              "   'verbosity': 1.25}}}"
            ]
          },
          "metadata": {},
          "execution_count": 34
        }
      ]
    },
    {
      "cell_type": "code",
      "source": [
        "threshold = 3.0"
      ],
      "metadata": {
        "id": "BIcYtRhWjhcS"
      },
      "execution_count": null,
      "outputs": []
    },
    {
      "cell_type": "code",
      "source": [
        "with open(f'synthetic_data_with_scores_filtered-{threshold}.jsonl', 'w') as f:\n",
        "    for item in question_response_score_list:\n",
        "        question = item[\"question\"]\n",
        "        response_a = item[\"responses\"][\"response_a\"]\n",
        "        response_b = item[\"responses\"][\"response_b\"]\n",
        "        response_a[\"question\"] = question\n",
        "        response_b[\"question\"] = question\n",
        "        if response_a[\"helpfulness\"] < threshold and response_b[\"helpfulness\"] < threshold:\n",
        "            continue\n",
        "        f.write(json.dumps(response_a))\n",
        "        f.write('\\n')\n",
        "        f.write(json.dumps(response_b))\n",
        "        f.write('\\n')"
      ],
      "metadata": {
        "id": "Z-OBnfDqjhaT"
      },
      "execution_count": null,
      "outputs": []
    },
    {
      "cell_type": "code",
      "source": [
        "question_response_score_list[0]"
      ],
      "metadata": {
        "colab": {
          "base_uri": "https://localhost:8080/"
        },
        "id": "7c_So_ETjhYG",
        "outputId": "194b5758-5474-4c37-af56-9568b8db2d5a"
      },
      "execution_count": null,
      "outputs": [
        {
          "output_type": "execute_result",
          "data": {
            "text/plain": [
              "{'question': 'What are the key differences between array and linked list data structures?',\n",
              " 'responses': {'response_a': {'response': 'One key difference between array and linked list data structures is that arrays have a fixed size, while linked lists can grow or shrink in size dynamically. Additionally, arrays allow for constant time access to any element by index, whereas linked lists require sequential access from the head or tail, resulting in linear time complexity for accessing an element by index.',\n",
              "   'helpfulness': 3.421875,\n",
              "   'correctness': 3.3125,\n",
              "   'coherence': 3.859375,\n",
              "   'complexity': 1.8671875,\n",
              "   'verbosity': 1.0859375},\n",
              "  'response_b': {'response': 'Another difference between array and linked list data structures is that arrays are stored contiguously in memory, which can lead to issues with memory allocation and fragmentation. Linked lists, on the other hand, are stored non-contiguously, with each node containing a pointer to the next node. This allows for easy insertion and deletion of elements, but can result in additional memory overhead due to the need to store pointers.',\n",
              "   'helpfulness': 2.140625,\n",
              "   'correctness': 2.28125,\n",
              "   'coherence': 3.5,\n",
              "   'complexity': 1.8203125,\n",
              "   'verbosity': 1.25}}}"
            ]
          },
          "metadata": {},
          "execution_count": 36
        }
      ]
    },
    {
      "cell_type": "code",
      "source": [],
      "metadata": {
        "id": "cdJF2y2cjhV5"
      },
      "execution_count": null,
      "outputs": []
    },
    {
      "cell_type": "code",
      "source": [],
      "metadata": {
        "id": "alHCXuM9jhTw"
      },
      "execution_count": null,
      "outputs": []
    },
    {
      "cell_type": "code",
      "source": [],
      "metadata": {
        "id": "o5mFftdIjhRp"
      },
      "execution_count": null,
      "outputs": []
    },
    {
      "cell_type": "code",
      "source": [],
      "metadata": {
        "id": "NzPNWoUOjhPT"
      },
      "execution_count": null,
      "outputs": []
    },
    {
      "cell_type": "code",
      "source": [],
      "metadata": {
        "id": "NpAOqzlpindk"
      },
      "execution_count": null,
      "outputs": []
    }
  ]
}